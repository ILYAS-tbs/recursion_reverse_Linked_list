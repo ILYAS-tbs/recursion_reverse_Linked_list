{
 "cells": [
  {
   "cell_type": "markdown",
   "metadata": {},
   "source": [
    "# Recursive into Iterative "
   ]
  },
  {
   "cell_type": "markdown",
   "metadata": {},
   "source": [
    "## Recursive"
   ]
  },
  {
   "cell_type": "code",
   "execution_count": 6,
   "metadata": {},
   "outputs": [],
   "source": [
    "def pow_rec(x,n):\n",
    "    if ( n == 0):\n",
    "        return 1\n",
    "    else:\n",
    "        return x*pow_rec(x,n-1)"
   ]
  },
  {
   "cell_type": "markdown",
   "metadata": {},
   "source": [
    "## iterative"
   ]
  },
  {
   "cell_type": "code",
   "execution_count": 7,
   "metadata": {},
   "outputs": [],
   "source": [
    "\n",
    "\n",
    "def powa(x,n):\n",
    "    \n",
    "    res=1\n",
    "    while(n!=0):\n",
    "        print(f\"(res,n):{(res,n)}\")\n",
    "        res= res*x \n",
    "        n= n-1\n",
    "\n",
    "    return res\n"
   ]
  },
  {
   "cell_type": "code",
   "execution_count": 10,
   "metadata": {},
   "outputs": [
    {
     "name": "stdout",
     "output_type": "stream",
     "text": [
      "(res,n):(1, 3)\n",
      "(res,n):(3, 2)\n",
      "(res,n):(9, 1)\n",
      "res_iter:27\n",
      "res_rec:27\n"
     ]
    }
   ],
   "source": [
    "res_iter=powa(3,3)\n",
    "res_rec=pow_rec(3,3)\n",
    "\n",
    "print(f\"res_iter:{res_iter}\\nres_rec:{res_rec}\")"
   ]
  },
  {
   "cell_type": "markdown",
   "metadata": {},
   "source": [
    "## Recursive - fib"
   ]
  },
  {
   "cell_type": "code",
   "execution_count": 29,
   "metadata": {},
   "outputs": [],
   "source": [
    "def fib_rec(n):\n",
    "    if(n == 0  ):\n",
    "        return 0\n",
    "    elif( n==1):\n",
    "        return 1\n",
    "    else: \n",
    "        return fib_rec(n-1)+fib_rec(n-2)"
   ]
  },
  {
   "cell_type": "markdown",
   "metadata": {},
   "source": [
    "## Iterative - Fib "
   ]
  },
  {
   "cell_type": "code",
   "execution_count": 31,
   "metadata": {},
   "outputs": [],
   "source": [
    "def fib_iter(n):\n",
    "    n = n \n",
    "    res=0 \n",
    "    \n",
    "    if(n==1):\n",
    "        return 1\n",
    "    while(n!=0 ):\n",
    "        res += (n-1)+(n-2)\n",
    "        n=n-2\n",
    "   \n",
    "    return res"
   ]
  },
  {
   "cell_type": "code",
   "execution_count": 32,
   "metadata": {},
   "outputs": [
    {
     "ename": "KeyboardInterrupt",
     "evalue": "",
     "output_type": "error",
     "traceback": [
      "\u001b[0;31m---------------------------------------------------------------------------\u001b[0m",
      "\u001b[0;31mKeyboardInterrupt\u001b[0m                         Traceback (most recent call last)",
      "Cell \u001b[0;32mIn[32], line 8\u001b[0m\n\u001b[1;32m      5\u001b[0m     num1 \u001b[38;5;241m=\u001b[39m fib_rec(i)\n\u001b[1;32m      6\u001b[0m     fib_list_rec\u001b[38;5;241m.\u001b[39mappend(num1) \n\u001b[0;32m----> 8\u001b[0m     num2 \u001b[38;5;241m=\u001b[39m fib_iter(i)\n\u001b[1;32m      9\u001b[0m     fib_list_iter\u001b[38;5;241m.\u001b[39mappend(num2)\n\u001b[1;32m     11\u001b[0m \u001b[38;5;28mprint\u001b[39m(\u001b[38;5;124mf\u001b[39m\u001b[38;5;124m\"\u001b[39m\u001b[38;5;124mfib_list_rec : \u001b[39m\u001b[38;5;132;01m{\u001b[39;00mfib_list_rec\u001b[38;5;132;01m}\u001b[39;00m\u001b[38;5;124m\"\u001b[39m)\n",
      "Cell \u001b[0;32mIn[31], line 7\u001b[0m, in \u001b[0;36mfib_iter\u001b[0;34m(n)\u001b[0m\n\u001b[1;32m      5\u001b[0m \u001b[38;5;28;01mif\u001b[39;00m(n\u001b[38;5;241m==\u001b[39m\u001b[38;5;241m1\u001b[39m):\n\u001b[1;32m      6\u001b[0m     \u001b[38;5;28;01mreturn\u001b[39;00m \u001b[38;5;241m1\u001b[39m\n\u001b[0;32m----> 7\u001b[0m \u001b[38;5;28;01mwhile\u001b[39;00m(n\u001b[38;5;241m!=\u001b[39m\u001b[38;5;241m0\u001b[39m ):\n\u001b[1;32m      8\u001b[0m     res \u001b[38;5;241m+\u001b[39m\u001b[38;5;241m=\u001b[39m (n\u001b[38;5;241m-\u001b[39m\u001b[38;5;241m1\u001b[39m)\u001b[38;5;241m+\u001b[39m(n\u001b[38;5;241m-\u001b[39m\u001b[38;5;241m2\u001b[39m)\n\u001b[1;32m      9\u001b[0m     n\u001b[38;5;241m=\u001b[39mn\u001b[38;5;241m-\u001b[39m\u001b[38;5;241m2\u001b[39m\n",
      "\u001b[0;31mKeyboardInterrupt\u001b[0m: "
     ]
    }
   ],
   "source": [
    "fib_list_rec=[]\n",
    "fib_list_iter=[]\n",
    "\n",
    "for i in range(0,14):\n",
    "    num1 = fib_rec(i)\n",
    "    fib_list_rec.append(num1) \n",
    "\n",
    "    num2 = fib_iter(i)\n",
    "    fib_list_iter.append(num2)\n",
    "\n",
    "print(f\"fib_list_rec : {fib_list_rec}\")\n",
    "print(f\"fib_list_iter : {fib_list_iter}\")\n",
    "\n",
    "\n",
    "0, 1, 1, 2, 3, 5, 8, 13, 21, 34, 55, 89, 144, 233 "
   ]
  },
  {
   "cell_type": "markdown",
   "metadata": {},
   "source": [
    "#  Iterative into Recursive"
   ]
  },
  {
   "cell_type": "markdown",
   "metadata": {},
   "source": [
    "## Iterative"
   ]
  },
  {
   "cell_type": "code",
   "execution_count": 5,
   "metadata": {},
   "outputs": [],
   "source": [
    "def largest_itr():\n",
    "    max =0 \n",
    "    n=0 \n",
    "\n",
    "    while(n!=-1):\n",
    "        n= int(input(\"-1 to quit , n:\"))\n",
    "        if  n>=max :\n",
    "            max=n \n",
    "    \n",
    "    return max"
   ]
  },
  {
   "cell_type": "code",
   "execution_count": 8,
   "metadata": {},
   "outputs": [
    {
     "name": "stdout",
     "output_type": "stream",
     "text": [
      "largest_itr :9\n"
     ]
    }
   ],
   "source": [
    "maximum = largest_itr()\n",
    "\n",
    "print(f\"largest_itr :{maximum}\")"
   ]
  },
  {
   "cell_type": "code",
   "execution_count": null,
   "metadata": {},
   "outputs": [],
   "source": []
  }
 ],
 "metadata": {
  "kernelspec": {
   "display_name": "base",
   "language": "python",
   "name": "python3"
  },
  "language_info": {
   "codemirror_mode": {
    "name": "ipython",
    "version": 3
   },
   "file_extension": ".py",
   "mimetype": "text/x-python",
   "name": "python",
   "nbconvert_exporter": "python",
   "pygments_lexer": "ipython3",
   "version": "3.11.5"
  }
 },
 "nbformat": 4,
 "nbformat_minor": 2
}
