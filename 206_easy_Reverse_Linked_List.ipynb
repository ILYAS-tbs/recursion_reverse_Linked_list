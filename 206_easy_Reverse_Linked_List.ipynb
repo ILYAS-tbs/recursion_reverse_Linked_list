{
 "cells": [
  {
   "cell_type": "code",
   "execution_count": 21,
   "metadata": {},
   "outputs": [
    {
     "name": "stdout",
     "output_type": "stream",
     "text": [
      "[1, 2, 3]\n",
      "<__main__.Node object at 0x7a1d0460a950>\n",
      "<__main__.Node object at 0x7a1d0460bad0>\n",
      "<__main__.Node object at 0x7a1d0460ac50>\n",
      "result list len:3 : [<__main__.Node object at 0x7a1d0460a950>, <__main__.Node object at 0x7a1d0460bad0>, <__main__.Node object at 0x7a1d0460ac50>]\n",
      "[3, 2, 1]\n"
     ]
    }
   ],
   "source": [
    "\n",
    "class Node:\n",
    "\n",
    "    def __init__(self , data):\n",
    "        self.data =data \n",
    "        self.next =None \n",
    "\n",
    "\n",
    "def to_list(L):\n",
    "    list = []\n",
    "    x= L \n",
    "    while(x!= None):\n",
    "        list.append(x.data)\n",
    "        x= x.next \n",
    "    return list\n",
    "\n",
    "\n",
    "\n",
    "L = Node(1)\n",
    "L.next = Node(2)\n",
    "L.next.next = Node(3)\n",
    "\n",
    "\n",
    "\n",
    "result=to_list(L)\n",
    "print(result) \n",
    "\n",
    "\n",
    "\n",
    "def reverse_linked_list(L):\n",
    "    pointers_list = []\n",
    "    x:Node=L\n",
    "    i=0\n",
    "    while(x!=None):\n",
    "        pointers_list.append(x)\n",
    "        print(f\"{x}\")\n",
    "        x=x.next \n",
    "\n",
    "    print(f\"result list len:{len(pointers_list)} : {pointers_list}\")\n",
    "    for i in range(len(pointers_list)-1 , -1,-1):\n",
    "        if(i!=0):\n",
    "            pointers_list[i].next=pointers_list[i-1]\n",
    "        else:\n",
    "            pointers_list[i].next=None \n",
    "\n",
    "    return pointers_list[len(pointers_list)-1]\n",
    "\n",
    "\n",
    "reversed = reverse_linked_list(L)\n",
    "\n",
    "print(to_list(reversed))"
   ]
  },
  {
   "cell_type": "code",
   "execution_count": 22,
   "metadata": {},
   "outputs": [
    {
     "name": "stdout",
     "output_type": "stream",
     "text": [
      "2\n",
      "1\n"
     ]
    }
   ],
   "source": [
    "for i in range(2,0,-1):\n",
    "    print(i)"
   ]
  },
  {
   "cell_type": "code",
   "execution_count": 23,
   "metadata": {},
   "outputs": [],
   "source": [
    "# Definition for singly-linked list.\n",
    "# class ListNode(object):\n",
    "#     def __init__(self, val=0, next=None):\n",
    "#         self.val = val\n",
    "#         self.next = next\n",
    "class Solution(object):\n",
    "    def reverseList(self, head):\n",
    "        \"\"\"\n",
    "        :type head: ListNode\n",
    "        :rtype: ListNode\n",
    "        \"\"\"\n",
    "        if (head != None):\n",
    "            pointers_list = []\n",
    "            x=head\n",
    "            while(x!=None):\n",
    "                pointers_list.append(x)\n",
    "                x=x.next \n",
    "\n",
    "            for i in range(len(pointers_list)-1 , -1,-1):\n",
    "                if(i!=0):\n",
    "                    pointers_list[i].next=pointers_list[i-1]\n",
    "                else:\n",
    "                    pointers_list[i].next=None \n",
    "\n",
    "            return pointers_list[len(pointers_list)-1] \n",
    "\n",
    "        else: \n",
    "            return None\n",
    "\n",
    "\n",
    "\n",
    "                "
   ]
  },
  {
   "cell_type": "markdown",
   "metadata": {},
   "source": [
    "# Recursive Solution "
   ]
  },
  {
   "cell_type": "code",
   "execution_count": null,
   "metadata": {},
   "outputs": [],
   "source": [
    "\n"
   ]
  },
  {
   "cell_type": "code",
   "execution_count": 31,
   "metadata": {},
   "outputs": [
    {
     "name": "stdout",
     "output_type": "stream",
     "text": [
      "[5, 6, 7]\n",
      "final : 7\n",
      "returned 2 lvl <__main__.Node object at 0x7a1cc1c40f90>\n",
      "<__main__.Node object at 0x7a1cc1c40f90>\n",
      "[7, 6, 5]\n"
     ]
    }
   ],
   "source": [
    "L2 = Node(5)\n",
    "L2.next = Node(6)\n",
    "L2.next.next = Node(7)\n",
    "\n",
    "\n",
    "\n",
    "result=to_list(L2)\n",
    "print(result) \n",
    "\n",
    "def reverse_ruc(L):\n",
    "    # todo : simplest cases\n",
    "    if(L==None):\n",
    "        print(f\"returned 0 lvl\")\n",
    "        return None \n",
    "    \n",
    "    elif(L.next == None):\n",
    "        print(f\"returned 1 lvl data\")\n",
    "\n",
    "        return L \n",
    "    elif(L.next.next ==None):\n",
    "        p = L \n",
    "        q=L.next \n",
    "        q.next = p \n",
    "        p.next = None  \n",
    "\n",
    "        print(f\"final : {q.data}\")\n",
    "        print(f\"returned 2 lvl {q}\")\n",
    "\n",
    "        return q\n",
    "    \n",
    "    else: \n",
    "        p=L \n",
    "        q=L.next\n",
    "   \n",
    "        res = reverse_ruc(L.next)\n",
    "        q.next = p \n",
    "        p.next = None \n",
    "\n",
    "        return res\n",
    "\n",
    "\n",
    "\n",
    "\n",
    "\n",
    "res = reverse_ruc(L2)\n",
    "\n",
    "print(res)\n",
    "print(to_list(res))\n",
    "\n"
   ]
  },
  {
   "cell_type": "markdown",
   "metadata": {},
   "source": [
    "# Final iterative solution "
   ]
  },
  {
   "cell_type": "code",
   "execution_count": null,
   "metadata": {},
   "outputs": [],
   "source": [
    "# Definition for singly-linked list.\n",
    "# class ListNode(object):\n",
    "#     def __init__(self, val=0, next=None):\n",
    "#         self.val = val\n",
    "#         self.next = next\n",
    "class Solution(object):\n",
    "    def reverseList(self, head):\n",
    "        \"\"\"\n",
    "        :type head: ListNode\n",
    "        :rtype: ListNode\n",
    "        \"\"\"\n",
    "        if (head != None):\n",
    "            pointers_list = []\n",
    "            x=head\n",
    "            while(x!=None):\n",
    "                pointers_list.append(x)\n",
    "                x=x.next \n",
    "\n",
    "            for i in range(len(pointers_list)-1 , -1,-1):\n",
    "                if(i!=0):\n",
    "                    pointers_list[i].next=pointers_list[i-1]\n",
    "                else:\n",
    "                    pointers_list[i].next=None \n",
    "\n",
    "            return pointers_list[len(pointers_list)-1] \n",
    "\n",
    "        else: \n",
    "            return None\n",
    "\n",
    "\n",
    "\n"
   ]
  },
  {
   "cell_type": "markdown",
   "metadata": {},
   "source": [
    "# Final Recursive "
   ]
  },
  {
   "cell_type": "code",
   "execution_count": null,
   "metadata": {},
   "outputs": [],
   "source": [
    "# Definition for singly-linked list.\n",
    "# class ListNode(object):\n",
    "#     def __init__(self, val=0, next=None):\n",
    "#         self.val = val\n",
    "#         self.next = next\n",
    "class Solution(object):\n",
    "    def reverseList(self, head):\n",
    "        \"\"\"\n",
    "        :type head: ListNode\n",
    "        :rtype: ListNode\n",
    "        \"\"\"\n",
    "        L=head\n",
    "        if(L==None):\n",
    "            print(f\"returned 0 lvl\")\n",
    "            return None \n",
    "        \n",
    "        elif(L.next == None):\n",
    "            print(f\"returned 1 lvl data\")\n",
    "\n",
    "            return L \n",
    "        elif(L.next.next ==None):\n",
    "            p = L \n",
    "            q=L.next \n",
    "            q.next = p \n",
    "            p.next = None  \n",
    "\n",
    "            print(f\"final : {q.data}\")\n",
    "            print(f\"returned 2 lvl {q}\")\n",
    "\n",
    "            return q\n",
    "        \n",
    "        else: \n",
    "            p=L \n",
    "            q=L.next\n",
    "    \n",
    "            res = self.reverseList(L.next)\n",
    "            q.next = p \n",
    "            p.next = None \n",
    "\n",
    "            return res\n",
    "\n",
    "\n",
    "\n",
    "\n"
   ]
  }
 ],
 "metadata": {
  "kernelspec": {
   "display_name": "Python 3",
   "language": "python",
   "name": "python3"
  },
  "language_info": {
   "codemirror_mode": {
    "name": "ipython",
    "version": 3
   },
   "file_extension": ".py",
   "mimetype": "text/x-python",
   "name": "python",
   "nbconvert_exporter": "python",
   "pygments_lexer": "ipython3",
   "version": "3.11.5"
  }
 },
 "nbformat": 4,
 "nbformat_minor": 2
}
